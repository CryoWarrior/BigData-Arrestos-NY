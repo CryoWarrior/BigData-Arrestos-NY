{
 "cells": [
  {
   "cell_type": "markdown",
   "id": "68bf7320-3fa5-4990-aaf3-fdd685d0cad9",
   "metadata": {},
   "source": [
    "## Pontificia Universidad Javeriana\n",
    "\n",
    "*Autores:*\n",
    "- Diego Alejandro Jara Rojas  \n",
    "- Juan Felipe González Quintero  \n",
    "- Tomás Felipe Guerra Hernández  \n",
    "- Isaías Acosta Herrera  \n",
    "\n",
    "*Fecha de Inicio:* 10 - 10 - 2025  \n",
    "*Fecha de Finalización:* 17 - 10 - 2025  \n",
    "\n",
    "---\n",
    "\n",
    "## **Proyecto**\n",
    "*Análisis de los factores socioeconómicos y delictivos asociados a los arrestos en la ciudad de Nueva York mediante técnicas de procesamiento de Big Data.*\n",
    "\n",
    "---\n",
    "\n",
    "## **Problemática**\n",
    "El aumento de arrestos en ciertos distritos de Nueva York plantea la necesidad de analizar qué factores pueden estar influyendo en esta tendencia.  \n",
    "Mediante la integración de datos sobre pobreza, criminalidad en escuelas y registros de arrestos, se busca identificar patrones y correlaciones que permitan entender si la desigualdad socioeconómica y la violencia escolar tienen un impacto significativo en las tasas de arrestos.\n",
    "\n",
    "---\n",
    "\n",
    "## **Objetivo**\n",
    "Realizar un análisis exploratorio y predictivo sobre los arrestos en Nueva York a partir de datos públicos de pobreza, crímenes en escuelas y reportes policiales, con el fin de determinar posibles relaciones entre las condiciones sociales y los niveles de criminalidad y detención.\n",
    "\n",
    "---\n",
    "\n",
    "## **Metodología**\n",
    "\n",
    "1. *Importación de datos desde el cluster*  \n",
    "   Carga de datasets en distintos formatos (CSV, Parquet) provenientes de fuentes oficiales del estado de Nueva York.  \n",
    "\n",
    "2. *Preprocesamiento y limpieza de datos*  \n",
    "   Estandarización de valores, manejo de nulos, combinación de bases de datos y normalización de variables.  \n",
    "\n",
    "3. *Análisis exploratorio de datos (EDA)*  \n",
    "   Cálculo de medidas estadísticas y visualización de distribuciones para identificar tendencias por distrito, tipo de crimen, nivel de pobreza y número de arrestos.  \n",
    "\n",
    "4. *Modelado y correlación de variables*  \n",
    "   Aplicación de modelos estadísticos y de aprendizaje automático (como regresión lineal y modelos de correlación múltiple) para evaluar relaciones entre pobreza, crimen y arrestos.  \n",
    "\n",
    "5. *Evaluación e interpretación*  \n",
    "   Análisis de resultados y visualización de patrones espaciales y sociales relevantes para comprender los factores más influyentes en la tasa de arrestos. (Ver documento)\n",
    "\n",
    "6. *Fuentes de referencia*  \n",
    "   - Open Data NYC  \n",
    "   - Department of Education NYC  \n",
    "   - NYPD Arrest Data Reports  \n",
    "   - Artículos y estudios previos sobre desigualdad y criminalidad urbana."
   ]
  },
  {
   "cell_type": "code",
   "execution_count": 1,
   "id": "09b76817-89b2-4759-98fc-c6831a53f806",
   "metadata": {},
   "outputs": [
    {
     "name": "stdout",
     "output_type": "stream",
     "text": [
      "/home/estudiante/miniconda3/bin/python3\n"
     ]
    }
   ],
   "source": [
    "import sys\n",
    "print(sys.executable)"
   ]
  },
  {
   "cell_type": "code",
   "execution_count": 2,
   "id": "24945c74-022c-4958-b5ee-cfcaeee5a073",
   "metadata": {},
   "outputs": [
    {
     "name": "stdout",
     "output_type": "stream",
     "text": [
      "~/miniconda3/bin/python\n"
     ]
    }
   ],
   "source": [
    "!which python"
   ]
  },
  {
   "cell_type": "markdown",
   "id": "687d9dc2-645a-4395-aae7-fe575889d691",
   "metadata": {},
   "source": [
    "#### Verificamos que estamos utilizando la versión de Python instalado en el cluster mediante Conda."
   ]
  },
  {
   "cell_type": "code",
   "execution_count": 3,
   "id": "0a1a5514-a248-4ace-a6a3-f86b9c52f9de",
   "metadata": {},
   "outputs": [
    {
     "name": "stdout",
     "output_type": "stream",
     "text": [
      "Usando Python en: /home/estudiante/miniconda3/bin/python3\n"
     ]
    }
   ],
   "source": [
    "import os\n",
    "\n",
    "os.environ[\"PYSPARK_PYTHON\"] = \"/home/estudiante/miniconda3/bin/python3\"\n",
    "os.environ[\"PYSPARK_DRIVER_PYTHON\"] = \"/home/estudiante/miniconda3/bin/python3\"\n",
    "\n",
    "print(\"Usando Python en:\", os.environ[\"PYSPARK_PYTHON\"])"
   ]
  },
  {
   "cell_type": "code",
   "execution_count": 4,
   "id": "911dd702-5bd8-457c-b3dc-95a2488a0c3c",
   "metadata": {},
   "outputs": [],
   "source": [
    "import os\n",
    "import pandas as pd\n",
    "import numpy as np\n",
    "import matplotlib.pyplot as plt\n",
    "import seaborn as sns\n",
    "import geopandas as gpd\n",
    "\n",
    "#Bibliotecas especializadas\n",
    "from pylab import *"
   ]
  },
  {
   "cell_type": "code",
   "execution_count": 5,
   "id": "05577755-42aa-406b-8db9-d736d605e810",
   "metadata": {},
   "outputs": [],
   "source": [
    "#Bibliotecas de Contexto PySpark\n",
    "\n",
    "#Busqueda e inicializacion para pyspark\n",
    "import findspark\n",
    "findspark.init()\n",
    "\n",
    "from pyspark import SparkConf, SparkContext\n",
    "from pyspark.sql import SparkSession, SQLContext\n",
    "from pyspark.sql.types import *\n",
    "import pyspark.sql.functions as F # Acceso a todas las funciones\n",
    "from pyspark.ml.evaluation import RegressionEvaluator\n",
    "from pyspark.sql import SparkSession"
   ]
  },
  {
   "cell_type": "code",
   "execution_count": 6,
   "id": "6c625833-8d8d-4284-b421-dc1311934949",
   "metadata": {},
   "outputs": [
    {
     "name": "stderr",
     "output_type": "stream",
     "text": [
      "Setting default log level to \"WARN\".\n",
      "To adjust logging level use sc.setLogLevel(newLevel). For SparkR, use setLogLevel(newLevel).\n",
      "25/10/21 23:13:46 WARN NativeCodeLoader: Unable to load native-hadoop library for your platform... using builtin-java classes where applicable\n"
     ]
    },
    {
     "name": "stdout",
     "output_type": "stream",
     "text": [
      "Sesion Cluster: NY_Escuelas_Proyecto\n"
     ]
    },
    {
     "data": {
      "text/html": [
       "\n",
       "            <div>\n",
       "                <p><b>SparkSession - in-memory</b></p>\n",
       "                \n",
       "        <div>\n",
       "            <p><b>SparkContext</b></p>\n",
       "\n",
       "            <p><a href=\"http://NPDG16:4040\">Spark UI</a></p>\n",
       "\n",
       "            <dl>\n",
       "              <dt>Version</dt>\n",
       "                <dd><code>v3.5.6</code></dd>\n",
       "              <dt>Master</dt>\n",
       "                <dd><code>local[*]</code></dd>\n",
       "              <dt>AppName</dt>\n",
       "                <dd><code>NY_Escuelas_Proyecto</code></dd>\n",
       "            </dl>\n",
       "        </div>\n",
       "        \n",
       "            </div>\n",
       "        "
      ],
      "text/plain": [
       "<pyspark.sql.session.SparkSession at 0x7efc59cc9250>"
      ]
     },
     "execution_count": 6,
     "metadata": {},
     "output_type": "execute_result"
    }
   ],
   "source": [
    "### Se crea una sesión para jacer el contexto de procesamiento desde mi Cuota del Cluster\n",
    "from pyspark import SparkConf\n",
    "## Configuracion de la cuota\n",
    "configura = SparkConf().set(\"spark.scheduler.mode\", \"FAIR\")\n",
    "\n",
    "## Se levanta la configuración de mi cuota\n",
    "configura.setAppName(\"NY_Escuelas_Proyecto\")\n",
    "\n",
    "sparkSPE = SparkSession.builder.config(conf=configura).getOrCreate()\n",
    "SQLContext(sparkContext=sparkSPE.sparkContext, sparkSession=sparkSPE)\n",
    "\n",
    "contextoSparkSPE = sparkSPE.sparkContext.getOrCreate()\n",
    "\n",
    "print(\"Sesion Cluster: NY_Escuelas_Proyecto\")\n",
    "sparkSPE"
   ]
  },
  {
   "cell_type": "markdown",
   "id": "0ae0c4a2-21a8-4c6c-adf0-783bb1a15e25",
   "metadata": {},
   "source": [
    "# **2.- Carga de datos desde el cluster**"
   ]
  },
  {
   "cell_type": "code",
   "execution_count": 7,
   "id": "fefb48d4-1050-4644-8166-f7a94a2cacac",
   "metadata": {},
   "outputs": [
    {
     "name": "stdout",
     "output_type": "stream",
     "text": [
      "Cantidad de CPU's en mi sesion Spark09: 1\n",
      "[('spark.driver.extraJavaOptions', '-Djava.net.preferIPv6Addresses=false -XX:+IgnoreUnrecognizedVMOptions --add-opens=java.base/java.lang=ALL-UNNAMED --add-opens=java.base/java.lang.invoke=ALL-UNNAMED --add-opens=java.base/java.lang.reflect=ALL-UNNAMED --add-opens=java.base/java.io=ALL-UNNAMED --add-opens=java.base/java.net=ALL-UNNAMED --add-opens=java.base/java.nio=ALL-UNNAMED --add-opens=java.base/java.util=ALL-UNNAMED --add-opens=java.base/java.util.concurrent=ALL-UNNAMED --add-opens=java.base/java.util.concurrent.atomic=ALL-UNNAMED --add-opens=java.base/jdk.internal.ref=ALL-UNNAMED --add-opens=java.base/sun.nio.ch=ALL-UNNAMED --add-opens=java.base/sun.nio.cs=ALL-UNNAMED --add-opens=java.base/sun.security.action=ALL-UNNAMED --add-opens=java.base/sun.util.calendar=ALL-UNNAMED --add-opens=java.security.jgss/sun.security.krb5=ALL-UNNAMED -Djdk.reflect.useDirectMethodHandle=false'), ('spark.driver.host', 'NPDG16'), ('spark.app.id', 'local-1761106427880'), ('spark.scheduler.mode', 'FAIR'), ('spark.executor.id', 'driver'), ('spark.app.submitTime', '1761106426461'), ('spark.driver.port', '33111'), ('spark.sql.warehouse.dir', 'file:/almacen/Spark/sbin/Notebooks/spark-warehouse'), ('spark.rdd.compress', 'True'), ('spark.executor.extraJavaOptions', '-Djava.net.preferIPv6Addresses=false -XX:+IgnoreUnrecognizedVMOptions --add-opens=java.base/java.lang=ALL-UNNAMED --add-opens=java.base/java.lang.invoke=ALL-UNNAMED --add-opens=java.base/java.lang.reflect=ALL-UNNAMED --add-opens=java.base/java.io=ALL-UNNAMED --add-opens=java.base/java.net=ALL-UNNAMED --add-opens=java.base/java.nio=ALL-UNNAMED --add-opens=java.base/java.util=ALL-UNNAMED --add-opens=java.base/java.util.concurrent=ALL-UNNAMED --add-opens=java.base/java.util.concurrent.atomic=ALL-UNNAMED --add-opens=java.base/jdk.internal.ref=ALL-UNNAMED --add-opens=java.base/sun.nio.ch=ALL-UNNAMED --add-opens=java.base/sun.nio.cs=ALL-UNNAMED --add-opens=java.base/sun.security.action=ALL-UNNAMED --add-opens=java.base/sun.util.calendar=ALL-UNNAMED --add-opens=java.security.jgss/sun.security.krb5=ALL-UNNAMED -Djdk.reflect.useDirectMethodHandle=false'), ('spark.serializer.objectStreamReset', '100'), ('spark.master', 'local[*]'), ('spark.submit.pyFiles', ''), ('spark.submit.deployMode', 'client'), ('spark.ui.showConsoleProgress', 'true'), ('spark.app.startTime', '1761106426645'), ('spark.app.name', 'NY_Escuelas_Proyecto')]\n"
     ]
    }
   ],
   "source": [
    "### Como estoy en un servidor que no es mio, y ni siquiera lo he realizado ni IMPLEMENTADO\n",
    "### Requiero saber que configuración de hardware me han dado a mi cuota de sesión\n",
    "### Adicional como cientifico que soy, requiero tambien como hacer un cluster para saber todo eso de implementación de un cluster,\n",
    "\n",
    "cantCPUS = sparkSPE._jsc.sc().getExecutorMemoryStatus().keySet().size()\n",
    "print(f\"Cantidad de CPU's en mi sesion Spark09: {cantCPUS}\" )\n",
    "print(sparkSPE.sparkContext.getConf().getAll())"
   ]
  },
  {
   "cell_type": "markdown",
   "id": "2ee449b0-94e1-41ce-bb69-e08a6f1cc9e5",
   "metadata": {},
   "source": [
    "### Acceso al Cluster de Almacenamiento (Almacen)"
   ]
  },
  {
   "cell_type": "code",
   "execution_count": 8,
   "id": "0d0beaf1-6678-47cc-9210-2438db118be1",
   "metadata": {},
   "outputs": [
    {
     "name": "stdout",
     "output_type": "stream",
     "text": [
      "+----+-------------+------+--------------------+-------------+-------------------+-------+--------------------------+-------------+--------------------+---------+--------------------+-------+-----+--------+------+-----+--------+--------+------------+----------+-------------+-----------+----------+------------------------+\n",
      "|  ID|Building Code|   DBN|       Location Name|Location Code|            Address|Borough|Geographical District Code|     Register|       Building Name|# Schools| Schools in Building|Major N|Oth N|NoCrim N|Prop N|Vio N|ENGroupA|  RangeA|AvgOfMajor N|AvgOfOth N|AvgOfNoCrim N|AvgOfProp N|AvgOfVio N|New Georeferenced Column|\n",
      "+----+-------------+------+--------------------+-------------+-------------------+-------+--------------------------+-------------+--------------------+---------+--------------------+-------+-----+--------+------+-----+--------+--------+------------+----------+-------------+-----------+----------+------------------------+\n",
      "| 646|         M019|01M301|TECHNOLOGY,ARTS,A...|         M301|   185 FIRST AVENUE|      M|                         1|           99|185 FIRST AVENUE ...|        2|P.S. 019 Asher Le...|    N/A|  N/A|     N/A|   N/A|  N/A|      2C|   1-250|         N/A|       N/A|          N/A|        N/A|       N/A|    POINT (-74.329275...|\n",
      "| 894|         M389|05M357|SUCCESS ACADEMY H...|         M357|461 West 131 Street|      M|                         5|          135|                NULL|        1|SUCCESS ACADEMY H...|      0|    0|       3|     0|    0|      2C|   1-250|        0.25|      0.88|         1.69|       0.57|      0.45|    POINT (-86.190823...|\n",
      "|  71|         K052|22K052|     PS 52(BROOKLYN)|         K052|2675 EAST 29 STREET|      K|                        22|          757|                NULL|        1|     PS 52(BROOKLYN)|      1|    1|       0|     2|    0|      5C|751-1000|        0.38|      1.52|         3.88|       0.83|      0.91|    POINT (-73.940627...|\n",
      "|1039|         Q008|28Q008|J.H.S. 008 Richar...|         Q008|  108-35 167 STREET|      Q|                        28|          336|108-35 167 STREET...|        3|J.H.S. 008 Richar...|    N/A|  N/A|     N/A|   N/A|  N/A|      3C| 251-500|         N/A|       N/A|          N/A|        N/A|       N/A|    POINT (-73.786934...|\n",
      "| 809|         M149|75M162|            P162(MN)|         M162|  34 West 118th St.|      M|                        75|SCHOOL CLOSED|   34 West 118th St.|        2|P162(MN)|SUCCESS ...|    N/A|  N/A|     N/A|   N/A|  N/A|     N/A|     N/A|         N/A|       N/A|          N/A|        N/A|       N/A|    POINT (-76.494659...|\n",
      "+----+-------------+------+--------------------+-------------+-------------------+-------+--------------------------+-------------+--------------------+---------+--------------------+-------+-----+--------+------+-----+--------+--------+------------+----------+-------------+-----------+----------+------------------------+\n",
      "only showing top 5 rows\n",
      "\n"
     ]
    }
   ],
   "source": [
    "## Se carga el CSV de Pobreza en nueva york como OBJETO DATAFRAME PySpark\n",
    "\n",
    "### Se empieza a cargar en un objeto dataframe del tipo SPARK los datos CSV\n",
    "df00 = sparkSPE.read.csv(\"/almacen/proyecto/2017_-_2018_Schools_NYPD_Crime_Data_Report_20251009.csv\", header = True, inferSchema=True)\n",
    "\n",
    "df00.show(5)"
   ]
  },
  {
   "cell_type": "markdown",
   "id": "9928aaf3-451a-4728-b763-f142a0098f1f",
   "metadata": {},
   "source": [
    "## **3. - Análisis y Preparación de Datos**\n",
    "Se presentan datos (csv) ------\n",
    "\n",
    "- Tipos de datos: coherencia de tipo de datos, transformación.\n",
    "- Columnas: conocimiento de las columnas, eliminación.\n",
    "- Análisis de taso nulos o imposibles: conocimiento."
   ]
  },
  {
   "cell_type": "code",
   "execution_count": 9,
   "id": "73c496bc-b28a-413b-b6ee-923193aa9840",
   "metadata": {},
   "outputs": [
    {
     "data": {
      "text/plain": [
       "['ID',\n",
       " 'Building Code',\n",
       " 'DBN',\n",
       " 'Location Name',\n",
       " 'Location Code',\n",
       " 'Address',\n",
       " 'Borough',\n",
       " 'Geographical District Code',\n",
       " 'Register',\n",
       " 'Building Name',\n",
       " '# Schools',\n",
       " 'Schools in Building',\n",
       " 'Major N',\n",
       " 'Oth N',\n",
       " 'NoCrim N',\n",
       " 'Prop N',\n",
       " 'Vio N',\n",
       " 'ENGroupA',\n",
       " 'RangeA',\n",
       " 'AvgOfMajor N',\n",
       " 'AvgOfOth N',\n",
       " 'AvgOfNoCrim N',\n",
       " 'AvgOfProp N',\n",
       " 'AvgOfVio N',\n",
       " 'New Georeferenced Column']"
      ]
     },
     "execution_count": 9,
     "metadata": {},
     "output_type": "execute_result"
    }
   ],
   "source": [
    "## Conocimiento de las columnas\n",
    "df00.columns"
   ]
  },
  {
   "cell_type": "markdown",
   "id": "63acb863-ded4-4d1e-9466-4aac884aecbb",
   "metadata": {},
   "source": [
    "#### Descripción de las columnas más importantes\n",
    "- **Borough:** Distrito de la escuela donde ocurrío el incidente.\n",
    "- **Major N:** Número de crímenes mayores reportados en la escuela.\n",
    "- **Oth N:** Número de otros incidentes o delitos menores.\n",
    "- **NoCrim N:** Número de incidentes no criminales.\n",
    "- **Prop N:** Número de crímenes de propiedad.\n",
    "- **Vio N:** Número de crímenes violentos\n",
    "- **AvgOfMajor N:** Promedio de crímenes mayores.\n",
    "- **AvgOfOth N:** Promedio de otros incidentes menores.\n",
    "- **AvgOfNoCrim N:** Promedio de incidentes no criminales.\n",
    "- **AvgOfProp N:** Promedio de delitos contra la propiedad.\n",
    "- **AvgOfVio N:** Promedio de crímenes violentos."
   ]
  },
  {
   "cell_type": "code",
   "execution_count": 10,
   "id": "f1266231-fd33-4ff2-b6b4-908a50536394",
   "metadata": {},
   "outputs": [
    {
     "data": {
      "text/plain": [
       "[('ID', 'int'),\n",
       " ('Building Code', 'string'),\n",
       " ('DBN', 'string'),\n",
       " ('Location Name', 'string'),\n",
       " ('Location Code', 'string'),\n",
       " ('Address', 'string'),\n",
       " ('Borough', 'string'),\n",
       " ('Geographical District Code', 'int'),\n",
       " ('Register', 'string'),\n",
       " ('Building Name', 'string'),\n",
       " ('# Schools', 'int'),\n",
       " ('Schools in Building', 'string'),\n",
       " ('Major N', 'string'),\n",
       " ('Oth N', 'string'),\n",
       " ('NoCrim N', 'string'),\n",
       " ('Prop N', 'string'),\n",
       " ('Vio N', 'string'),\n",
       " ('ENGroupA', 'string'),\n",
       " ('RangeA', 'string'),\n",
       " ('AvgOfMajor N', 'string'),\n",
       " ('AvgOfOth N', 'string'),\n",
       " ('AvgOfNoCrim N', 'string'),\n",
       " ('AvgOfProp N', 'string'),\n",
       " ('AvgOfVio N', 'string'),\n",
       " ('New Georeferenced Column', 'string')]"
      ]
     },
     "execution_count": 10,
     "metadata": {},
     "output_type": "execute_result"
    }
   ],
   "source": [
    "#Se procede a identificar los tipos de datos originales del conjunto de datos de Arrestos\n",
    "df00.dtypes"
   ]
  },
  {
   "cell_type": "markdown",
   "id": "bc190def-49d4-4117-86c1-1eca29e541a2",
   "metadata": {},
   "source": [
    "Como se puede evidenciar, no existen variables en este conjunto de datos a las que sea necesario aplicarles una transformación en primera instancia, con lo que este paso será omitido. Sin embargo, más adelante se realizarán procesos de estandarización de algunas variables para que estas coincidan y puedan relacionarse de mejor forma con los otros conjuntos de datos utilizados en este estudio (Pobreza e Arrestos de Nueva York)."
   ]
  },
  {
   "cell_type": "code",
   "execution_count": 11,
   "id": "7497bd52-33f1-439c-ae55-c0207babc965",
   "metadata": {},
   "outputs": [
    {
     "name": "stdout",
     "output_type": "stream",
     "text": [
      "+-------+-----------------+\n",
      "|summary|               ID|\n",
      "+-------+-----------------+\n",
      "|  count|             1919|\n",
      "|   mean|973.5216258467952|\n",
      "| stddev|565.6179908754177|\n",
      "|    min|                1|\n",
      "|    max|             1954|\n",
      "+-------+-----------------+\n",
      "\n",
      "+-------+-------------+\n",
      "|summary|Building Code|\n",
      "+-------+-------------+\n",
      "|  count|         1919|\n",
      "|   mean|         NULL|\n",
      "| stddev|         NULL|\n",
      "|    min|         K001|\n",
      "|    max|         XAJF|\n",
      "+-------+-------------+\n",
      "\n",
      "+-------+-------------+\n",
      "|summary|          DBN|\n",
      "+-------+-------------+\n",
      "|  count|         1646|\n",
      "|   mean|         NULL|\n",
      "| stddev|         NULL|\n",
      "|    min|       01M015|\n",
      "|    max|PS 161(BRONX)|\n",
      "+-------+-------------+\n",
      "\n",
      "+-------+--------------------+\n",
      "|summary|       Location Name|\n",
      "+-------+--------------------+\n",
      "|  count|                1919|\n",
      "|   mean|                NULL|\n",
      "| stddev|                NULL|\n",
      "|    min|              07X161|\n",
      "|    max|Young Women's Lea...|\n",
      "+-------+--------------------+\n",
      "\n",
      "+-------+-------------+\n",
      "|summary|Location Code|\n",
      "+-------+-------------+\n",
      "|  count|         1650|\n",
      "|   mean|         NULL|\n",
      "| stddev|         NULL|\n",
      "|    min|         K001|\n",
      "|    max|         X901|\n",
      "+-------+-------------+\n",
      "\n",
      "+-------+------------------+\n",
      "|summary|           Address|\n",
      "+-------+------------------+\n",
      "|  count|              1919|\n",
      "|   mean|              NULL|\n",
      "| stddev|              NULL|\n",
      "|    min|  1 ALBEMARLE ROAD|\n",
      "|    max|999 JAMAICA AVENUE|\n",
      "+-------+------------------+\n",
      "\n",
      "+-------+-------+\n",
      "|summary|Borough|\n",
      "+-------+-------+\n",
      "|  count|   1919|\n",
      "|   mean|   NULL|\n",
      "| stddev|   NULL|\n",
      "|    min|      K|\n",
      "|    max|      X|\n",
      "+-------+-------+\n",
      "\n",
      "+-------+--------------------------+\n",
      "|summary|Geographical District Code|\n",
      "+-------+--------------------------+\n",
      "|  count|                      1919|\n",
      "|   mean|        15.723293381969777|\n",
      "| stddev|        10.722445559806618|\n",
      "|    min|                         1|\n",
      "|    max|                        85|\n",
      "+-------+--------------------------+\n",
      "\n",
      "+-------+-----------------+\n",
      "|summary|         Register|\n",
      "+-------+-----------------+\n",
      "|  count|             1919|\n",
      "|   mean|622.6970021413276|\n",
      "| stddev|457.4033933219066|\n",
      "|    min|                1|\n",
      "|    max|             YABC|\n",
      "+-------+-----------------+\n",
      "\n",
      "+-------+--------------------+\n",
      "|summary|       Building Name|\n",
      "+-------+--------------------+\n",
      "|  count|                1017|\n",
      "|   mean|                NULL|\n",
      "| stddev|                NULL|\n",
      "|    min|10-45 NAMEOKE STR...|\n",
      "|    max|P.S. 179 |  Young...|\n",
      "+-------+--------------------+\n",
      "\n",
      "+-------+------------------+\n",
      "|summary|         # Schools|\n",
      "+-------+------------------+\n",
      "|  count|              1919|\n",
      "|   mean|2.1318394997394474|\n",
      "| stddev|1.5543079168553877|\n",
      "|    min|                 1|\n",
      "|    max|                 8|\n",
      "+-------+------------------+\n",
      "\n",
      "+-------+--------------------+\n",
      "|summary| Schools in Building|\n",
      "+-------+--------------------+\n",
      "|  count|                1919|\n",
      "|   mean|                NULL|\n",
      "| stddev|                NULL|\n",
      "|    min|     365 Beach 56 St|\n",
      "|    max||P140(BN)|LEADERS...|\n",
      "+-------+--------------------+\n",
      "\n",
      "+-------+------------------+\n",
      "|summary|           Major N|\n",
      "+-------+------------------+\n",
      "|  count|              1919|\n",
      "|   mean|0.3872340425531915|\n",
      "| stddev|0.7868210199334481|\n",
      "|    min|                 0|\n",
      "|    max|               N/A|\n",
      "+-------+------------------+\n",
      "\n",
      "+-------+------------------+\n",
      "|summary|             Oth N|\n",
      "+-------+------------------+\n",
      "|  count|              1919|\n",
      "|   mean|1.6987234042553192|\n",
      "| stddev| 2.673828627146447|\n",
      "|    min|                 0|\n",
      "|    max|               N/A|\n",
      "+-------+------------------+\n",
      "\n",
      "+-------+-----------------+\n",
      "|summary|         NoCrim N|\n",
      "+-------+-----------------+\n",
      "|  count|             1919|\n",
      "|   mean|4.169361702127659|\n",
      "| stddev|8.323490343614003|\n",
      "|    min|                0|\n",
      "|    max|              N/A|\n",
      "+-------+-----------------+\n",
      "\n",
      "+-------+-----------------+\n",
      "|summary|           Prop N|\n",
      "+-------+-----------------+\n",
      "|  count|             1919|\n",
      "|   mean|0.916595744680851|\n",
      "| stddev|1.441011139113198|\n",
      "|    min|                0|\n",
      "|    max|              N/A|\n",
      "+-------+-----------------+\n",
      "\n",
      "+-------+------------------+\n",
      "|summary|             Vio N|\n",
      "+-------+------------------+\n",
      "|  count|              1919|\n",
      "|   mean|0.9293617021276596|\n",
      "| stddev|1.7308546355488224|\n",
      "|    min|                 0|\n",
      "|    max|               N/A|\n",
      "+-------+------------------+\n",
      "\n",
      "+-------+--------+\n",
      "|summary|ENGroupA|\n",
      "+-------+--------+\n",
      "|  count|    1919|\n",
      "|   mean|    NULL|\n",
      "| stddev|    NULL|\n",
      "|    min|     10C|\n",
      "|    max|     N/A|\n",
      "+-------+--------+\n",
      "\n",
      "+-------+------+\n",
      "|summary|RangeA|\n",
      "+-------+------+\n",
      "|  count|  1919|\n",
      "|   mean|  NULL|\n",
      "| stddev|  NULL|\n",
      "|    min| 1-250|\n",
      "|    max|   N/A|\n",
      "+-------+------+\n",
      "\n",
      "+-------+-------------------+\n",
      "|summary|       AvgOfMajor N|\n",
      "+-------+-------------------+\n",
      "|  count|               1919|\n",
      "|   mean|0.38526270456502815|\n",
      "| stddev|0.23825613730038447|\n",
      "|    min|               0.25|\n",
      "|    max|                N/A|\n",
      "+-------+-------------------+\n",
      "\n",
      "+-------+-----------------+\n",
      "|summary|       AvgOfOth N|\n",
      "+-------+-----------------+\n",
      "|  count|             1919|\n",
      "|   mean|1.687441860465121|\n",
      "| stddev|1.309698735536872|\n",
      "|    min|             0.88|\n",
      "|    max|              N/A|\n",
      "+-------+-----------------+\n",
      "\n",
      "+-------+-----------------+\n",
      "|summary|    AvgOfNoCrim N|\n",
      "+-------+-----------------+\n",
      "|  count|             1919|\n",
      "|   mean|4.130878552971563|\n",
      "| stddev|4.022639091686208|\n",
      "|    min|             1.69|\n",
      "|    max|              N/A|\n",
      "+-------+-----------------+\n",
      "\n",
      "+-------+------------------+\n",
      "|summary|       AvgOfProp N|\n",
      "+-------+------------------+\n",
      "|  count|              1919|\n",
      "|   mean|0.9051076658053379|\n",
      "| stddev|0.6323208561499603|\n",
      "|    min|              0.55|\n",
      "|    max|               N/A|\n",
      "+-------+------------------+\n",
      "\n",
      "+-------+------------------+\n",
      "|summary|        AvgOfVio N|\n",
      "+-------+------------------+\n",
      "|  count|              1919|\n",
      "|   mean|0.9247028423772707|\n",
      "| stddev|0.6729260107408314|\n",
      "|    min|              0.45|\n",
      "|    max|               N/A|\n",
      "+-------+------------------+\n",
      "\n",
      "+-------+------------------------+\n",
      "|summary|New Georeferenced Column|\n",
      "+-------+------------------------+\n",
      "|  count|                    1919|\n",
      "|   mean|                    NULL|\n",
      "| stddev|                    NULL|\n",
      "|    min|    POINT (-101.46977...|\n",
      "|    max|    POINT (-99.931599...|\n",
      "+-------+------------------------+\n",
      "\n"
     ]
    }
   ],
   "source": [
    "#Se hace una descripción estadísitca de los parámetros/variables del conjunto de datos para una exploración inicial\n",
    "for valor in df00.columns:\n",
    "  df00.describe([valor]).show()"
   ]
  },
  {
   "cell_type": "markdown",
   "id": "946fe34e-081c-4d4e-8d82-4f74f70236da",
   "metadata": {},
   "source": [
    "## **Exploración de valores nulos en los datos**"
   ]
  },
  {
   "cell_type": "markdown",
   "id": "d9ff53ff-3a18-4876-be81-a1d7bb8ad200",
   "metadata": {},
   "source": [
    "En esta sección usamos diferentes consultas para **revisar si en el conjunto de datos existen datos nulos o con valores imposibles** para poder realizar su limpieza, ya de no realizarse, podría verse afectada la generación de visualizaciones gráficas y las conclusiones a sacar de este estudio."
   ]
  },
  {
   "cell_type": "code",
   "execution_count": 12,
   "id": "9db7a7f2-9d16-43af-b3a3-f3b8e2faab8c",
   "metadata": {},
   "outputs": [
    {
     "name": "stdout",
     "output_type": "stream",
     "text": [
      "+---+-------------+---+-------------+-------------+-------+-------+--------------------------+--------+-------------+---------+-------------------+-------+-----+--------+------+-----+--------+------+------------+----------+-------------+-----------+----------+------------------------+\n",
      "| ID|Building Code|DBN|Location Name|Location Code|Address|Borough|Geographical District Code|Register|Building Name|# Schools|Schools in Building|Major N|Oth N|NoCrim N|Prop N|Vio N|ENGroupA|RangeA|AvgOfMajor N|AvgOfOth N|AvgOfNoCrim N|AvgOfProp N|AvgOfVio N|New Georeferenced Column|\n",
      "+---+-------------+---+-------------+-------------+-------+-------+--------------------------+--------+-------------+---------+-------------------+-------+-----+--------+------+-----+--------+------+------------+----------+-------------+-----------+----------+------------------------+\n",
      "|  0|            0|273|            0|          269|      0|      0|                         0|       0|          902|        0|                  0|      0|    0|       0|     0|    0|       0|     0|           0|         0|            0|          0|         0|                       0|\n",
      "+---+-------------+---+-------------+-------------+-------+-------+--------------------------+--------+-------------+---------+-------------------+-------+-----+--------+------+-----+--------+------+------------+----------+-------------+-----------+----------+------------------------+\n",
      "\n"
     ]
    }
   ],
   "source": [
    "#Rastreamos la cantidad de valores nulos o imposibles\n",
    "df00.select([F.count(F.when(F.isnan(c) | F.col(c).isNull(), c)).alias(c) for c in df00.columns]).show()"
   ]
  },
  {
   "cell_type": "markdown",
   "id": "cf8fdab8-005d-4bf8-abb6-c87a0e82ceec",
   "metadata": {},
   "source": [
    "Con esto se comprueba que **efectivamente existen varias columnas con datos nulos** por lo que para generar un dataframe para realizar las visualizaciones del conjunto de datos, **conservaremos únicamente** los datos sin estos registros (más adelante se eliminarán varias de las columnas que tienen datos nulos ya que no poseen información útil para el estudio)"
   ]
  },
  {
   "cell_type": "markdown",
   "id": "5ba88f3f-872e-4254-9f1c-f757a3e66ada",
   "metadata": {},
   "source": [
    "# **4. Eliminación de columnas no relevantes**\n"
   ]
  },
  {
   "cell_type": "markdown",
   "id": "3c69278d-6f88-4327-a132-d0911135e9e8",
   "metadata": {},
   "source": [
    "Con esto se comprueba que **efectivamente existen varias columnas con datos nulos** por lo que para generar un dataframe para realizar las visualizaciones del conjunto de datos, **conservaremos únicamente** los datos sin estos registros (más adelante se eliminarán varias de las columnas que tienen datos nulos ya que no poseen información útil para el estudio)"
   ]
  },
  {
   "cell_type": "markdown",
   "id": "258ace58-eb8f-4818-94ac-d6f1b3a2466c",
   "metadata": {},
   "source": [
    "Para este estudio se contempla hacer uso de algunas de las columnas del conjunto de datos de arrestos, por lo que se procede a eliminar aquellas que no representan información importante."
   ]
  },
  {
   "cell_type": "code",
   "execution_count": 13,
   "id": "1f4b806f-70f1-43b5-92e1-77f1fd0b1b88",
   "metadata": {},
   "outputs": [
    {
     "name": "stdout",
     "output_type": "stream",
     "text": [
      "+-------+-------+-----+--------+------+-----+------------+----------+-------------+-----------+----------+\n",
      "|Borough|Major N|Oth N|NoCrim N|Prop N|Vio N|AvgOfMajor N|AvgOfOth N|AvgOfNoCrim N|AvgOfProp N|AvgOfVio N|\n",
      "+-------+-------+-----+--------+------+-----+------------+----------+-------------+-----------+----------+\n",
      "|      M|    N/A|  N/A|     N/A|   N/A|  N/A|         N/A|       N/A|          N/A|        N/A|       N/A|\n",
      "|      M|      0|    0|       3|     0|    0|        0.25|      0.88|         1.69|       0.57|      0.45|\n",
      "|      K|      1|    1|       0|     2|    0|        0.38|      1.52|         3.88|       0.83|      0.91|\n",
      "|      Q|    N/A|  N/A|     N/A|   N/A|  N/A|         N/A|       N/A|          N/A|        N/A|       N/A|\n",
      "|      M|    N/A|  N/A|     N/A|   N/A|  N/A|         N/A|       N/A|          N/A|        N/A|       N/A|\n",
      "|      M|      1|   11|       8|     6|    4|        0.25|      1.03|         2.22|       0.55|      0.58|\n",
      "|      M|      1|    4|       1|     1|    3|        0.25|      0.88|         1.69|       0.57|      0.45|\n",
      "|      K|    N/A|  N/A|     N/A|   N/A|  N/A|         N/A|       N/A|          N/A|        N/A|       N/A|\n",
      "|      K|      0|    2|       3|     2|    0|        0.25|      1.03|         2.22|       0.55|      0.58|\n",
      "|      Q|      0|    0|       0|     0|    0|        0.26|      1.13|         2.41|       0.66|      0.57|\n",
      "|      Q|      1|    2|       0|     0|    3|        0.25|      1.03|         2.22|       0.55|      0.58|\n",
      "|      M|      0|    2|       7|     2|    0|        0.61|      2.55|         6.10|       1.29|      1.48|\n",
      "|      K|      0|    0|       0|     0|    0|        0.25|      1.03|         2.22|       0.55|      0.58|\n",
      "|      K|    N/A|  N/A|     N/A|   N/A|  N/A|         N/A|       N/A|          N/A|        N/A|       N/A|\n",
      "|      Q|      0|    1|       0|     1|    0|        0.26|      1.13|         2.41|       0.66|      0.57|\n",
      "|      K|    N/A|  N/A|     N/A|   N/A|  N/A|         N/A|       N/A|          N/A|        N/A|       N/A|\n",
      "|      Q|      0|    0|       2|     0|    0|        0.65|      2.79|         6.71|       1.48|      1.47|\n",
      "|      M|    N/A|  N/A|     N/A|   N/A|  N/A|         N/A|       N/A|          N/A|        N/A|       N/A|\n",
      "|      M|    N/A|  N/A|     N/A|   N/A|  N/A|         N/A|       N/A|          N/A|        N/A|       N/A|\n",
      "|      K|      0|    6|       9|     2|    2|        0.65|      2.79|         6.71|       1.48|      1.47|\n",
      "|      M|    N/A|  N/A|     N/A|   N/A|  N/A|         N/A|       N/A|          N/A|        N/A|       N/A|\n",
      "|      M|      1|    4|       4|     1|    1|        0.25|      1.03|         2.22|       0.55|      0.58|\n",
      "|      K|      1|    6|      14|     1|    3|        0.38|      1.52|         3.88|       0.83|      0.91|\n",
      "|      M|    N/A|  N/A|     N/A|   N/A|  N/A|         N/A|       N/A|          N/A|        N/A|       N/A|\n",
      "|      K|    N/A|  N/A|     N/A|   N/A|  N/A|         N/A|       N/A|          N/A|        N/A|       N/A|\n",
      "|      Q|      1|    0|       0|     1|    0|        0.26|      1.13|         2.41|       0.66|      0.57|\n",
      "|      M|      2|    1|       6|     2|    0|        0.25|      1.03|         2.22|       0.55|      0.58|\n",
      "|      K|    N/A|  N/A|     N/A|   N/A|  N/A|         N/A|       N/A|          N/A|        N/A|       N/A|\n",
      "|      K|      0|    0|       0|     0|    0|        0.61|      2.55|         6.10|       1.29|      1.48|\n",
      "|      M|    N/A|  N/A|     N/A|   N/A|  N/A|         N/A|       N/A|          N/A|        N/A|       N/A|\n",
      "+-------+-------+-----+--------+------+-----+------------+----------+-------------+-----------+----------+\n",
      "only showing top 30 rows\n",
      "\n"
     ]
    }
   ],
   "source": [
    "#Eliminamos las columnas que no son relevantes para el estudio\n",
    "df01 = df00.drop('ID','Building Code','Geographical District Code','Location Name','Location Code','DBN','Address','Register','Building Name','# Schools','Schools in Building','ENGroupA','RangeA','New Georeferenced Column')\n",
    "#Mostramos las primeras 10 filas para verificar que los cambios hayan sido aplicados\n",
    "df01.show(30)"
   ]
  },
  {
   "cell_type": "markdown",
   "id": "2389b387-08f3-439b-8a89-57489293407f",
   "metadata": {},
   "source": [
    "Las columnas seleccionadas para continuar con el estudio se justifican a continuación:\n",
    "\n",
    "- **Borough:** Permite relacionar los datos de las escuelas con los de pobreza y arrestos, que también se reportan por borough.\n",
    "- **Major N:** Indicador de criminalidad seria dentro de cada escuela.\n",
    "- **Oth N:** Refleja la frecuencia de incidentes no mayores, complementando la categoría anterior.\n",
    "- **NoCrim N:** Permite medir el nivel general de conflicto en la escuela, incluso si no llega a ser crimen.\n",
    "- **Prop N:** Mide la afectación a la propiedad dentro del entorno escolar.\n",
    "- **Vio N:** Es un indicador clave para medir la inseguridad violenta en el entorno escolar.\n",
    "- **AvgOfMajor N:** Facilita la comparación entre distritos o boroughs sin sesgo por tamaño.\n",
    "- **AvgOfOth N:** Complementa la visión general de seguridad escolar promedio.\n",
    "- **AvgOfNoCrim N:** Permite comparar niveles de conflicto escolar general entre zonas.\n",
    "- **AvgOfProp N:** Útil para estudiar tendencias en crímenes de propiedad a nivel agregado.\n",
    "- **AvgOfVio N:** Variable clave para correlacionar con niveles de pobreza o arrestos en el mismo borough o distrito."
   ]
  },
  {
   "cell_type": "code",
   "execution_count": 14,
   "id": "3123b4de-4a9a-49cc-b792-4b92369049aa",
   "metadata": {},
   "outputs": [
    {
     "name": "stdout",
     "output_type": "stream",
     "text": [
      "+-------+-------+-----+--------+------+-----+------------+----------+-------------+-----------+----------+\n",
      "|Borough|Major N|Oth N|NoCrim N|Prop N|Vio N|AvgOfMajor N|AvgOfOth N|AvgOfNoCrim N|AvgOfProp N|AvgOfVio N|\n",
      "+-------+-------+-----+--------+------+-----+------------+----------+-------------+-----------+----------+\n",
      "|      0|      0|    0|       0|     0|    0|           0|         0|            0|          0|         0|\n",
      "+-------+-------+-----+--------+------+-----+------------+----------+-------------+-----------+----------+\n",
      "\n"
     ]
    }
   ],
   "source": [
    "df01.select([F.count(F.when(F.isnan(c) | F.col(c).isNull(), c)).alias(c) for c in df01.columns]).show()"
   ]
  },
  {
   "cell_type": "markdown",
   "id": "cf319b75-73f9-4653-833d-40a818cace61",
   "metadata": {},
   "source": [
    "# **5. Estandarización de variables**"
   ]
  },
  {
   "cell_type": "markdown",
   "id": "a5af6553-bf4a-4139-b9a3-3484663378e8",
   "metadata": {},
   "source": [
    "Con el proposito de relacionar los otros datasets se va a standarizar las variables que aparecen en los datasets. En este caso seria la variable Borough que aparece en los arrestos y en la pobreza ademas de este mismo dataset"
   ]
  },
  {
   "cell_type": "code",
   "execution_count": 15,
   "id": "d21c076c-b06d-473c-b1ee-39067e804c76",
   "metadata": {},
   "outputs": [
    {
     "name": "stdout",
     "output_type": "stream",
     "text": [
      "+-------+-------+-----+--------+------+-----+------------+----------+-------------+-----------+----------+\n",
      "|Borough|Major N|Oth N|NoCrim N|Prop N|Vio N|AvgOfMajor N|AvgOfOth N|AvgOfNoCrim N|AvgOfProp N|AvgOfVio N|\n",
      "+-------+-------+-----+--------+------+-----+------------+----------+-------------+-----------+----------+\n",
      "|      3|    N/A|  N/A|     N/A|   N/A|  N/A|         N/A|       N/A|          N/A|        N/A|       N/A|\n",
      "|      3|      0|    0|       3|     0|    0|        0.25|      0.88|         1.69|       0.57|      0.45|\n",
      "|      2|      1|    1|       0|     2|    0|        0.38|      1.52|         3.88|       0.83|      0.91|\n",
      "|      4|    N/A|  N/A|     N/A|   N/A|  N/A|         N/A|       N/A|          N/A|        N/A|       N/A|\n",
      "|      3|    N/A|  N/A|     N/A|   N/A|  N/A|         N/A|       N/A|          N/A|        N/A|       N/A|\n",
      "|      3|      1|   11|       8|     6|    4|        0.25|      1.03|         2.22|       0.55|      0.58|\n",
      "|      3|      1|    4|       1|     1|    3|        0.25|      0.88|         1.69|       0.57|      0.45|\n",
      "|      2|    N/A|  N/A|     N/A|   N/A|  N/A|         N/A|       N/A|          N/A|        N/A|       N/A|\n",
      "|      2|      0|    2|       3|     2|    0|        0.25|      1.03|         2.22|       0.55|      0.58|\n",
      "|      4|      0|    0|       0|     0|    0|        0.26|      1.13|         2.41|       0.66|      0.57|\n",
      "+-------+-------+-----+--------+------+-----+------------+----------+-------------+-----------+----------+\n",
      "only showing top 10 rows\n",
      "\n"
     ]
    }
   ],
   "source": [
    "#Importación de recursos extra de pyspark\n",
    "from pyspark.sql.functions import when, col\n",
    "\n",
    "#Se asignan los reemplazos de cada uno de los valores de la columna \"Borough\" para que estos coincidan con los de los demás datasets\n",
    "df01 = (\n",
    "    df01.withColumn(\n",
    "        \"Borough\",\n",
    "        when(col(\"Borough\") == \"X\", 1)\n",
    "        .when(col(\"Borough\") == \"K\", 2)\n",
    "        .when(col(\"Borough\") == \"M\", 3)\n",
    "        .when(col(\"Borough\") == \"Q\", 4)\n",
    "        .when(col(\"Borough\") == \"R\", 5)\n",
    "        .otherwise(None)  \n",
    "    )\n",
    ")\n",
    "\n",
    "#Verificamos que los cambios hayan sido aplicados al dataframe\n",
    "df01.show(10)"
   ]
  },
  {
   "cell_type": "markdown",
   "id": "4657c78c-39fb-4a65-86df-8339f1fa6f9a",
   "metadata": {},
   "source": [
    "## **Tratamiento de datos nulos**\n",
    "Como en este caso la tabla que tenemos no tiene valores nulos no es necesario sobreescribir los nulos."
   ]
  },
  {
   "cell_type": "code",
   "execution_count": 16,
   "id": "f6a25b9c-679f-4bab-9569-a048efb776f4",
   "metadata": {},
   "outputs": [
    {
     "name": "stdout",
     "output_type": "stream",
     "text": [
      "+-------+-------+-----+--------+------+-----+------------+----------+-------------+-----------+----------+\n",
      "|Borough|Major N|Oth N|NoCrim N|Prop N|Vio N|AvgOfMajor N|AvgOfOth N|AvgOfNoCrim N|AvgOfProp N|AvgOfVio N|\n",
      "+-------+-------+-----+--------+------+-----+------------+----------+-------------+-----------+----------+\n",
      "|      0|      0|    0|       0|     0|    0|           0|         0|            0|          0|         0|\n",
      "+-------+-------+-----+--------+------+-----+------------+----------+-------------+-----------+----------+\n",
      "\n"
     ]
    }
   ],
   "source": [
    "#Se hace el conteo de datos nulos \n",
    "df01.select([F.count(F.when(F.isnan(c) | F.col(c).isNull(), c)).alias(c) for c in df01.columns]).show()"
   ]
  },
  {
   "cell_type": "code",
   "execution_count": 17,
   "id": "0a402403-ffe7-4cc5-a780-c3cfbe96e042",
   "metadata": {},
   "outputs": [
    {
     "name": "stderr",
     "output_type": "stream",
     "text": [
      "[Stage 89:>                                                         (0 + 1) / 1]"
     ]
    },
    {
     "name": "stdout",
     "output_type": "stream",
     "text": [
      "+-------+-------+-----+--------+------+-----+------------+----------+-------------+-----------+----------+\n",
      "|Borough|Major N|Oth N|NoCrim N|Prop N|Vio N|AvgOfMajor N|AvgOfOth N|AvgOfNoCrim N|AvgOfProp N|AvgOfVio N|\n",
      "+-------+-------+-----+--------+------+-----+------------+----------+-------------+-----------+----------+\n",
      "|      3|    N/A|  N/A|     N/A|   N/A|  N/A|         N/A|       N/A|          N/A|        N/A|       N/A|\n",
      "|      3|      0|    0|       3|     0|    0|        0.25|      0.88|         1.69|       0.57|      0.45|\n",
      "|      2|      1|    1|       0|     2|    0|        0.38|      1.52|         3.88|       0.83|      0.91|\n",
      "|      4|    N/A|  N/A|     N/A|   N/A|  N/A|         N/A|       N/A|          N/A|        N/A|       N/A|\n",
      "|      3|    N/A|  N/A|     N/A|   N/A|  N/A|         N/A|       N/A|          N/A|        N/A|       N/A|\n",
      "+-------+-------+-----+--------+------+-----+------------+----------+-------------+-----------+----------+\n",
      "only showing top 5 rows\n",
      "\n"
     ]
    },
    {
     "name": "stderr",
     "output_type": "stream",
     "text": [
      "                                                                                "
     ]
    }
   ],
   "source": [
    "# Se sobreescribe el dataframe\n",
    "df01.write.mode(\"overwrite\").parquet(\"/almacen/proyecto/parquet/df_crimenesEscuela.parquet\")\n",
    "df01.show(5)"
   ]
  },
  {
   "cell_type": "markdown",
   "id": "14b00295-8bc7-4b22-8c0e-0a93991e9644",
   "metadata": {},
   "source": [
    "# **Visualización gráfica de datos**"
   ]
  },
  {
   "cell_type": "code",
   "execution_count": 18,
   "id": "994c8de4-9252-4f83-bb9c-8cef49908c9b",
   "metadata": {},
   "outputs": [
    {
     "name": "stderr",
     "output_type": "stream",
     "text": [
      "/tmp/ipykernel_290549/2000787292.py:28: FutureWarning: \n",
      "\n",
      "Passing `palette` without assigning `hue` is deprecated and will be removed in v0.14.0. Assign the `x` variable to `hue` and set `legend=False` for the same effect.\n",
      "\n",
      "  sns.barplot(\n"
     ]
    },
    {
     "data": {
      "image/png": "[encoded data removed]",
      "text/plain": [
       "<Figure size 800x500 with 1 Axes>"
      ]
     },
     "metadata": {},
     "output_type": "display_data"
    }
   ],
   "source": [
    "# Agrupar por Borough y sumar los incidentes mayores\n",
    "df_major = (\n",
    "    df01.groupBy(\"Borough\")\n",
    "        .agg(F.sum(\"Major N\").alias(\"Total_Major_N\"))\n",
    "        .orderBy(\"Borough\")\n",
    ")\n",
    "\n",
    "# Convertir a Pandas\n",
    "df_major_pd = df_major.toPandas()\n",
    "\n",
    "# Mapear los códigos numéricos a nombres de borough\n",
    "borough_map = {\n",
    "    1: \"Bronx\",\n",
    "    2: \"Brooklyn\",\n",
    "    3: \"Manhattan\",\n",
    "    4: \"Queens\",\n",
    "    5: \"Staten Island\"\n",
    "}\n",
    "\n",
    "# Reemplazar los números por los nombres\n",
    "df_major_pd[\"Borough\"] = df_major_pd[\"Borough\"].map(borough_map)\n",
    "\n",
    "# Eliminar filas con Borough nulo\n",
    "df_major_pd = df_major_pd.dropna(subset=[\"Borough\"])\n",
    "\n",
    "# Gráfico\n",
    "plt.figure(figsize=(8, 5))\n",
    "sns.barplot(\n",
    "    data=df_major_pd,\n",
    "    x=\"Borough\",\n",
    "    y=\"Total_Major_N\",\n",
    "    palette=\"viridis\"\n",
    ")\n",
    "\n",
    "plt.title(\"Incidentes Mayores en Escuelas por Distrito\", fontsize=14, fontweight=\"bold\")\n",
    "plt.xlabel(\"Distrito\", fontsize=12)\n",
    "plt.ylabel(\"Total de Incidentes Mayores\", fontsize=12)\n",
    "plt.grid(alpha=0.3)\n",
    "plt.tight_layout()\n",
    "\n",
    "plt.show()\n",
    "\n",
    "save = '/almacen/proyecto/graficas_proyecto/grafica_incidentes_mayores_borough.png'\n",
    "plt.savefig(save, dpi=300)\n",
    "plt.close()\n",
    "\n"
   ]
  },
  {
   "cell_type": "code",
   "execution_count": 19,
   "id": "ee816bce-9421-45ed-9f19-c49d91a20434",
   "metadata": {},
   "outputs": [],
   "source": [
    "from pyspark.sql.types import DoubleType\n",
    "from pyspark.sql.functions import col, when, sum as _sum\n",
    "\n",
    "df02 = df01.withColumn(\n",
    "    \"Total_Crimenes\",\n",
    "    col(\"Major N\") + col(\"Oth N\") + col(\"NoCrim N\") + col(\"Prop N\") + col(\"Vio N\")\n",
    ")"
   ]
  },
  {
   "cell_type": "code",
   "execution_count": 20,
   "id": "7476b46a-b40e-489e-91f5-dcebc508c23e",
   "metadata": {},
   "outputs": [],
   "source": [
    "df_borough_total = (\n",
    "    df02.groupBy(\"Borough\")\n",
    "        .agg(_sum(\"Total_Crimenes\").alias(\"Crimenes_Totales\"))\n",
    "        .orderBy(\"Borough\")\n",
    ")"
   ]
  },
  {
   "cell_type": "code",
   "execution_count": 21,
   "id": "e95bd989-696a-4a5c-8ac4-b6807974d4b3",
   "metadata": {},
   "outputs": [
    {
     "name": "stderr",
     "output_type": "stream",
     "text": [
      "/tmp/ipykernel_290549/1266966588.py:21: FutureWarning: \n",
      "\n",
      "Passing `palette` without assigning `hue` is deprecated and will be removed in v0.14.0. Assign the `x` variable to `hue` and set `legend=False` for the same effect.\n",
      "\n",
      "  sns.barplot(\n"
     ]
    },
    {
     "data": {
      "image/png": "[encoded data removed]",
      "text/plain": [
       "<Figure size 800x500 with 1 Axes>"
      ]
     },
     "metadata": {},
     "output_type": "display_data"
    }
   ],
   "source": [
    "# Convertir a pandas\n",
    "df_borough_pd = df_borough_total.toPandas()\n",
    "\n",
    "# Mapear los códigos numéricos a nombres de borough\n",
    "borough_map = {\n",
    "    1: \"Bronx\",\n",
    "    2: \"Brooklyn\",\n",
    "    3: \"Manhattan\",\n",
    "    4: \"Queens\",\n",
    "    5: \"Staten Island\"\n",
    "}\n",
    "\n",
    "# Reemplazar los números por los nombres\n",
    "df_borough_pd[\"Borough\"] = df_borough_pd[\"Borough\"].map(borough_map)\n",
    "\n",
    "# Eliminar filas con Borough nulo\n",
    "df_borough_pd = df_borough_pd.dropna(subset=[\"Borough\"])\n",
    "\n",
    "# Gráfico\n",
    "plt.figure(figsize=(8, 5))\n",
    "sns.barplot(\n",
    "    data=df_borough_pd,\n",
    "    x=\"Borough\",\n",
    "    y=\"Crimenes_Totales\",\n",
    "    palette=\"viridis\"\n",
    ")\n",
    "\n",
    "plt.title(\"Total de Crímenes En Escuelas Por Distrito\", fontsize=14, fontweight=\"bold\")\n",
    "plt.xlabel(\"Distrito\")\n",
    "plt.ylabel(\"Total de Crímenes\")\n",
    "plt.grid(alpha=0.3)\n",
    "plt.tight_layout()\n",
    "\n",
    "plt.show()\n",
    "\n",
    "save2 = '/almacen/proyecto/graficas_proyecto/grafica_total_crimenes_borough.png'\n",
    "plt.savefig(save2, dpi=300)\n",
    "plt.close()\n",
    "\n"
   ]
  }
 ],
 "metadata": {
  "kernelspec": {
   "display_name": "Python (mi_env)",
   "language": "python",
   "name": "mi_env"
  },
  "language_info": {
   "codemirror_mode": {
    "name": "ipython",
    "version": 3
   },
   "file_extension": ".py",
   "mimetype": "text/x-python",
   "name": "python",
   "nbconvert_exporter": "python",
   "pygments_lexer": "ipython3",
   "version": "3.9.18"
  }
 },
 "nbformat": 4,
 "nbformat_minor": 5
}
